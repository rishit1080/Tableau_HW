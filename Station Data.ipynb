{
 "cells": [
  {
   "cell_type": "code",
   "execution_count": 1,
   "metadata": {},
   "outputs": [],
   "source": [
    "import os"
   ]
  },
  {
   "cell_type": "code",
   "execution_count": null,
   "metadata": {},
   "outputs": [],
   "source": [
    "import os.path\n"
   ]
  },
  {
   "cell_type": "code",
   "execution_count": null,
   "metadata": {},
   "outputs": [],
   "source": [
    "import time\n",
    "import csv\n",
    "import numpy\n",
    "from datetime import datetime\n",
    "import pandas as pd\n",
    "import numpy as np"
   ]
  },
  {
   "cell_type": "code",
   "execution_count": null,
   "metadata": {},
   "outputs": [],
   "source": [
    "# Change to top level of extracted data archive\n",
    "os.chdir(\"C:/Users/RishiThakur/Desktop/Tableau_Homework/Citibike_Data\")\n"
   ]
  },
  {
   "cell_type": "code",
   "execution_count": null,
   "metadata": {},
   "outputs": [],
   "source": [
    "new = os.getcwd().replace(\"\\\\\",\"/\")\n"
   ]
  },
  {
   "cell_type": "code",
   "execution_count": null,
   "metadata": {},
   "outputs": [],
   "source": [
    "filepaths = []\n",
    "for dirpath, dirnames, filenames in os.walk(new):\n",
    "    for filename in [f for f in filenames if f.endswith(\".csv\")]:\n",
    "        filepaths.append(\".\" + os.path.join(dirpath, filename)[len(new):].replace(\"\\\\\",\"/\"))"
   ]
  },
  {
   "cell_type": "code",
   "execution_count": null,
   "metadata": {},
   "outputs": [],
   "source": [
    "rowcounter = 0\n",
    "station = {}\n",
    "name = {}\n",
    "lat = {}\n",
    "lng = {}\n",
    "\n",
    "for filename in filepaths:\n",
    "    with open(filename, newline=\"\") as csvfile:\n",
    "        csvreader = csv.reader(csvfile, delimiter=\",\")\n",
    "\n",
    "        next(csvreader)                 # skips header row\n",
    "        \n",
    "        # Iterates through each row in csv\n",
    "        for row in csvreader:\n",
    "            \n",
    "            rowcounter += 1\n",
    "\n",
    "            # if candidate not in dict, adds key and initializes value\n",
    "            if row[3] not in station:\n",
    "                station[row[3]] = 0\n",
    "\n",
    "            station[row[3]] += 1     # increments dictionary value\n",
    "            \n",
    "            if row[3] not in name:\n",
    "                name[row[3]] = row[4]\n",
    "                \n",
    "            if row[3] not in lat:\n",
    "                if row[5] != '0.0':\n",
    "                    lat[row[3]] = float(row[5])\n",
    "                \n",
    "            if row[3] not in lng:\n",
    "                if row[6] != '0.0':\n",
    "                    lng[row[3]] = float(row[6])"
   ]
  },
  {
   "cell_type": "code",
   "execution_count": null,
   "metadata": {},
   "outputs": [],
   "source": [
    "df = pd.DataFrame([station, name, lat, lng]).T\n",
    "df.columns = ['rides', 'start_station_name', 'start_station_lat', 'start_station_lng']"
   ]
  },
  {
   "cell_type": "code",
   "execution_count": null,
   "metadata": {},
   "outputs": [],
   "source": [
    "df"
   ]
  },
  {
   "cell_type": "code",
   "execution_count": null,
   "metadata": {},
   "outputs": [],
   "source": [
    "df.index.name = 'start_station_id'\n"
   ]
  },
  {
   "cell_type": "code",
   "execution_count": null,
   "metadata": {},
   "outputs": [],
   "source": [
    "# Will export to top level of extracted data archive\n",
    "df.to_csv(\"startstations.csv\")"
   ]
  },
  {
   "cell_type": "code",
   "execution_count": null,
   "metadata": {},
   "outputs": [],
   "source": [
    "rowcounter\n"
   ]
  },
  {
   "cell_type": "code",
   "execution_count": null,
   "metadata": {},
   "outputs": [],
   "source": [
    "rowcounter = 0\n",
    "station = {}\n",
    "name = {}\n",
    "lat = {}\n",
    "lng = {}\n",
    "\n",
    "for filename in filepaths:\n",
    "    with open(filename, newline=\"\") as csvfile:\n",
    "        csvreader = csv.reader(csvfile, delimiter=\",\")\n",
    "\n",
    "        next(csvreader)                 # skips header row\n",
    "        \n",
    "        # Iterates through each row in csv\n",
    "        for row in csvreader:\n",
    "            \n",
    "            rowcounter += 1\n",
    "\n",
    "            # if candidate not in dict, adds key and initializes value\n",
    "            if row[7] not in station:\n",
    "                station[row[7]] = 0\n",
    "\n",
    "            station[row[7]] += 1     # increments dictionary value\n",
    "            \n",
    "            if row[7] not in name:\n",
    "                name[row[7]] = row[8]\n",
    "                \n",
    "            if row[7] not in lat:\n",
    "                if row[9] != '0.0':\n",
    "                    lat[row[7]] = float(row[9])\n",
    "                \n",
    "            if row[7] not in lng:\n",
    "                if row[10] != '0.0':\n",
    "                    lng[row[7]] = float(row[10])"
   ]
  },
  {
   "cell_type": "code",
   "execution_count": null,
   "metadata": {},
   "outputs": [],
   "source": [
    "df_end = pd.DataFrame([station, name, lat, lng]).T\n",
    "df_end.columns = ['rides', 'end_station_name', 'end_station_lat', 'end_station_lng']"
   ]
  },
  {
   "cell_type": "code",
   "execution_count": null,
   "metadata": {},
   "outputs": [],
   "source": [
    "df_end.index.name = 'end_station_id'\n"
   ]
  },
  {
   "cell_type": "code",
   "execution_count": null,
   "metadata": {},
   "outputs": [],
   "source": [
    "# Will export to top level of extracted data archive\n",
    "df_end.to_csv(\"endstations.csv\")"
   ]
  },
  {
   "cell_type": "code",
   "execution_count": null,
   "metadata": {},
   "outputs": [],
   "source": [
    "bikes = {}\n",
    "tripduration = {}\n",
    "used = {}\n",
    "\n",
    "for filename in filepaths:\n",
    "    with open(filename, newline=\"\") as csvfile:\n",
    "        csvreader = csv.reader(csvfile, delimiter=\",\")\n",
    "\n",
    "        next(csvreader)                 # skips header row\n",
    "        \n",
    "        # Iterates through each row in csv\n",
    "        for row in csvreader:\n",
    "           \n",
    "            if row[11] not in bikes:\n",
    "                bikes[row[11]] = 0\n",
    "\n",
    "            bikes[row[11]] += 1     # increments dictionary value\n",
    "            \n",
    "            if row[11] not in tripduration:\n",
    "                tripduration[row[11]] = 0.0\n",
    "            \n",
    "            tripduration[row[11]] += float(row[0])\n",
    "            \n",
    "            if row[11] not in used:\n",
    "                used[row[11]] = 0.0\n",
    "            \n",
    "            used[row[11]] += ((float(row[0]) / 3600) * 11.5)"
   ]
  },
  {
   "cell_type": "code",
   "execution_count": null,
   "metadata": {},
   "outputs": [],
   "source": [
    "df_miles = pd.DataFrame([bikes, tripduration, used]).T\n",
    "df_miles.columns = ['times_used', 'duration', 'miles']"
   ]
  },
  {
   "cell_type": "code",
   "execution_count": null,
   "metadata": {},
   "outputs": [],
   "source": [
    "df_miles.index.name = 'bike_id'\n"
   ]
  },
  {
   "cell_type": "code",
   "execution_count": null,
   "metadata": {},
   "outputs": [],
   "source": [
    "# Will export to top level of extracted data archive\n",
    "df_miles.to_csv(\"bikes_used.csv\")"
   ]
  }
 ],
 "metadata": {
  "kernelspec": {
   "display_name": "Python 3",
   "language": "python",
   "name": "python3"
  },
  "language_info": {
   "codemirror_mode": {
    "name": "ipython",
    "version": 3
   },
   "file_extension": ".py",
   "mimetype": "text/x-python",
   "name": "python",
   "nbconvert_exporter": "python",
   "pygments_lexer": "ipython3",
   "version": "3.7.2"
  }
 },
 "nbformat": 4,
 "nbformat_minor": 2
}
